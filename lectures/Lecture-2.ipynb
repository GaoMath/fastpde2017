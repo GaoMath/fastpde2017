{
 "cells": [
  {
   "cell_type": "markdown",
   "metadata": {
    "slideshow": {
     "slide_type": "slide"
    }
   },
   "source": [
    "# Lecture 2: Integral equations/quadratures"
   ]
  },
  {
   "cell_type": "markdown",
   "metadata": {
    "slideshow": {
     "slide_type": "slide"
    }
   },
   "source": [
    "## Previous lecture\n",
    "- Intro\n",
    "- IE for external problems"
   ]
  },
  {
   "cell_type": "markdown",
   "metadata": {
    "slideshow": {
     "slide_type": "slide"
    }
   },
   "source": [
    "## Todays lecture\n",
    "- IE discretization\n",
    "- Nystrom, collocation, Galerkin method"
   ]
  },
  {
   "cell_type": "markdown",
   "metadata": {
    "slideshow": {
     "slide_type": "slide"
    }
   },
   "source": [
    "## Simplest integral equation\n",
    "\n",
    "The simplest integral equation we talked about reads\n",
    "\n",
    "$$\\int_{\\partial \\Omega} \\frac{q(y)}{\\Vert x - y \\Vert} dy = f(x), \\quad x \\in \\partial \\Omega,$$\n",
    "where $\\Omega$ is a certain domain in 3D.\n",
    "\n",
    "The general form of a first-kind integral equation is\n",
    "\n",
    "$$\n",
    "\\int_{\\partial \\Omega} q(y) G(x, y) dy = f(x), \\quad x \\in \\partial \\Omega,\n",
    "$$\n",
    "where $G(x, y)$ is a **Green function** of the PDE."
   ]
  },
  {
   "cell_type": "markdown",
   "metadata": {
    "slideshow": {
     "slide_type": "slide"
    }
   },
   "source": [
    "## Typical Green functions\n",
    "The Green function of a PDE operator $A$ satisfies\n",
    "$$A G(x, y) = \\delta(x-y), $$\n",
    "i.e. it plays the role of the \"inverse\" of the operator without boundary conditions.  \n",
    "\n",
    "It is also called **free-space** Green function. The Green function can also incorporate the boundary conditions."
   ]
  },
  {
   "cell_type": "markdown",
   "metadata": {
    "slideshow": {
     "slide_type": "slide"
    }
   },
   "source": [
    "## Green functions with boundary conditions and reflection method\n",
    "\n",
    "Suppose we want to find a function $G(x, y)$ such that\n",
    "\n",
    "$$\\Delta_x G(x, y) = \\delta (x - y), \\; G(x, y) \\mid_{x \\in \\partial \\Omega} = 0. $$\n",
    "\n",
    "If we found such a function, solution of\n",
    "\n",
    "$$\\Delta u = f,$$\n",
    "\n",
    "is given by the **explicit integral**\n",
    "\n",
    "$$u(x) = \\int_{\\Omega} G(x, y) f(y)  dy.$$"
   ]
  },
  {
   "cell_type": "markdown",
   "metadata": {
    "slideshow": {
     "slide_type": "slide"
    }
   },
   "source": [
    "## Reflection method\n",
    "\n",
    "In a few cases, you can write down such a Green function, typically based on the **method of reflections**.\n",
    "\n",
    "For a Dirictlet bouundary conditions, we can use not only charge located at $y$, but also many other charges that lie outside $\\Omega$ and give the required b.c.\n",
    "\n",
    "- A plane - two charges are ok.\n",
    "- A cube - many reflections, infinite series"
   ]
  },
  {
   "cell_type": "markdown",
   "metadata": {
    "slideshow": {
     "slide_type": "slide"
    }
   },
   "source": [
    "## Discretization\n",
    "Now to discretization of the equation\n",
    "$$\\int_{\\partial \\Omega} \\frac{q(y)}{\\Vert x - y \\Vert} dy = f(x), \\quad x \\in \\partial \\Omega.$$\n",
    "\n",
    "Steps of discretization:\n",
    "1. Select a finite-dimensional subspace, spanned by basis function $\\phi_i, i = 1, \\dots, N$. Typically, $\\phi_i$ are **local basis functions** defined on a certain mesh $\\mathcal{T}$ over the surface.\n",
    "2. Look for the solution in the form\n",
    "   $$q(y) \\approx \\sum_{i=1}^N q_i \\phi_i(y)$$\n",
    "\n",
    "Note, that the basis functions can be even **piecewise-constant**, compared to PDEs, where **generally** they have to be at least piecewise-linear for Finite Element Method (they can be piecewise-constant for **Discontinious Galerkin**, but that is more an exception)"
   ]
  },
  {
   "cell_type": "markdown",
   "metadata": {
    "slideshow": {
     "slide_type": "slide"
    }
   },
   "source": [
    "## Discretization (2)\n",
    "$$\\int_{\\partial \\Omega} \\frac{q(y)}{\\Vert x - y \\Vert} dy = f(x), \\quad x \\in \\partial \\Omega,$$\n",
    "\n",
    "Suppose that $\\mathrm{supp}(\\phi_i) = T_i$ (i.e., local support). Then, \n",
    "\n",
    "$$ \\sum_{i=1}^N q_i \\int_{T_i} \\frac{\\phi_i(y)}{\\Vert x - y \\Vert} dy = f(x).$$\n",
    "\n",
    "This has to hold for all $x$, i.e. it is **infinite amount** of equations. There are two ways of dealing with this situation:\n",
    "\n",
    "1. Galerkin method\n",
    "2. Collocation method."
   ]
  },
  {
   "cell_type": "markdown",
   "metadata": {
    "slideshow": {
     "slide_type": "slide"
    }
   },
   "source": [
    "## Galerkin method\n",
    "The Galerkin method takes  the equation\n",
    "$$ \\sum_{i=1}^N q_i \\int_{T_i} \\frac{\\phi_i(y)}{\\Vert x - y \\Vert} dy = f(x),$$\n",
    "and multiplies it by $\\phi_j(x)$ and integrates over $T_j$. Then we get\n",
    "\n",
    "$$ \\sum_{i=1}^N q_i \\int_{T_j} \\int_{T_i} \\frac{\\phi_j(x) \\phi_i(x)}{\\Vert x - y \\Vert} dx dy = \\int_{T_j} f(x) \\phi_j(x) dx.$$\n",
    "\n",
    "This is a **square system** of linear equations of the form\n",
    "$$\n",
    "   A q = f,\n",
    "$$\n",
    "where \n",
    "$$\n",
    "A = [a_{ij}], \\; a_{ij} = \\int_{T_j} \\int_{T_i} \\frac{\\phi_j(x) \\phi_i(x)}{\\Vert x - y \\Vert} dx dy.$$  Everything is fine, the matrix is symmetric (it can be also shown that it is positive definite, let us do that), but the evaluation of the element requires \n",
    "**4D** integral to be evaluated. That is main computational problem, thus engineers often use a much more simple collocation method."
   ]
  },
  {
   "cell_type": "markdown",
   "metadata": {
    "slideshow": {
     "slide_type": "slide"
    }
   },
   "source": [
    "## Collocation method\n",
    "Collocation method consists of taking the equation\n",
    "$$ \\sum_{i=1}^N q_i \\int_{T_i} \\frac{\\phi_i(y)}{\\Vert x - y \\Vert} dy = f(x),$$\n",
    "at some **collocation points** $x_j$. \n",
    "\n",
    "Consider **piecewise-constant case**, i.e. $\\phi_i(y) = 1$ on $T_i$ and $0$ otherwise. Then the most natural choice for collocation points are **centers of the triangles**,\n",
    "and we again get a **square** linear system\n",
    "\n",
    "$$A q = f,$$\n",
    "\n",
    "where\n",
    "\n",
    "$$\n",
    "A = [a_{ij}], \\; a_{ij} = \\int_{T_i} \\frac{dy}{\\Vert x_j - y \\Vert},\\\n",
    "$$\n",
    "i.e. it has the meaning of **uniformly charged** triangle.\n",
    "\n",
    "Note that this matrix is **non-symmetric**, so you can not use symmetric-oriented methods to solve linear system, but integrals are in 3D domain."
   ]
  },
  {
   "cell_type": "markdown",
   "metadata": {
    "slideshow": {
     "slide_type": "slide"
    }
   },
   "source": [
    "## Nystrom method\n",
    "\n",
    "The Nystrom method is just another simplication of the collocation method (as collocation method can be considered as a quadrature applied to the Galerkin method).\n",
    "\n",
    "We just approximate\n",
    "\n",
    "$$\n",
    "    A_{ij}  = \\int_{T_i} \\frac{dy}{\\Vert x_j - y \\Vert} dy \\approx S_i \\frac{1}{\\|x_j - y_i\\|}.\n",
    "$$ \n",
    "\n",
    "If the **source triangle** $T_i$ is sufficiently far from the **receiver** $x_j$, indeed, this can be a very good approximation.\n",
    "\n",
    "If $y_i$ lies inside the triangle, then the approximation can be  really bad.\n",
    "\n"
   ]
  },
  {
   "cell_type": "markdown",
   "metadata": {
    "slideshow": {
     "slide_type": "slide"
    }
   },
   "source": [
    "## Locally corrected Nystrom\n",
    "\n",
    "Typically, a **locally corrected Nystrom** is used: much more advanced quadratures are used in the **close zone**, where the singularity of the integrals appears. The concept is as follows:\n",
    "\n",
    "- To evaluate the matrix-by-vector product $Aq$ it is split into the **far part** and **close part**. \n",
    "- Close part is evaluated separately, far is evaluated using a simple quadrature\n",
    "\n",
    "**Far-close** splitting is the key to **fast methods**!"
   ]
  },
  {
   "cell_type": "markdown",
   "metadata": {
    "slideshow": {
     "slide_type": "slide"
    }
   },
   "source": [
    "## Computing the integrals\n",
    "The main art about Galerkin/collocation methods is **computation of singular integrals**, which can not be handled by standard Gauss quadratures in the close zone.\n",
    "\n",
    "There are several ways\n",
    "\n",
    "- Analytic evaluation\n",
    "- Subtraction of singularity, singularity is integrated analytically, remainder by Gauss\n",
    "- Gauss-Duffy quadrature \n",
    "- Schwab-Sauter quadrature\n",
    "- Rokhlin generalized quadratures"
   ]
  },
  {
   "cell_type": "markdown",
   "metadata": {
    "slideshow": {
     "slide_type": "slide"
    }
   },
   "source": [
    "## Model integral \n",
    "\n",
    "We will study the integrals of the form\n",
    "\n",
    "$$\n",
    "\\int^b_a \\int^d_c \\frac{\\phi(x) \\phi(y)}{\\Vert x - y \\Vert} dy,\n",
    "$$\n",
    "\n",
    "where $\\phi(x), \\phi(y)$ are standard local basis function (constant or linear)."
   ]
  },
  {
   "cell_type": "markdown",
   "metadata": {
    "slideshow": {
     "slide_type": "slide"
    }
   },
   "source": [
    "## Computing the simplest integral\n",
    "We can actually compute the anti-derivative of the integral in question, by taking successive integrals\n",
    "\n",
    "$$\n",
    "   \\frac{1}{\\sqrt{x^2 + y^2}}\n",
    "$$\n",
    "\\begin{equation}\n",
    "\\begin{split}\n",
    "F(x, y) = \\int \\int \\frac{1}{\\sqrt{x^2 + y^2}} dx dy = \\\\\n",
    "-y + \n",
    "y \\log(x + \\sqrt{x^2 + y^2}) + x \\log(y + \\sqrt{x^2 + y^2}),\n",
    "\\end{split}\n",
    "\\end{equation}\n",
    "\n",
    "and the final integral is just \n",
    "$$\n",
    "   I(x_0, y_0, x_1, y_1) = F(x_0, y_0) + F(x_1, y_1) - F(x_0, y_1) - F(x_1, y_0),\n",
    "$$\n",
    "\n",
    "(generalization of the Newton-Leibniz formula)"
   ]
  },
  {
   "cell_type": "markdown",
   "metadata": {
    "slideshow": {
     "slide_type": "slide"
    }
   },
   "source": [
    "## Smarter than Nystrom\n",
    "You can be **a little bit** smarter: approximate $1/r$ by something that can be well-integrated.  \n",
    "\n",
    "By a sum of separable functions!\n",
    "\n",
    "$$\\frac{1}{\\Vert x - y\\Vert } \\approx \\sum_{\\alpha=1}^r u_{\\alpha}(x) u_{\\alpha}(y)$$\n",
    "\n",
    "We have used the symmetry.\n",
    "\n",
    "Such representation is obviously useful, since in Galerkin formula we can replace 4D integration by 2D integration,\n",
    "\n",
    "$$\n",
    "\\int \\int \\phi_i(x) \\phi_j(y) u_{\\alpha}(x) u_{\\alpha}(y) dx dy = \\int \\phi_i(x) u_{\\alpha}(x) dx \\int \\phi_j(y) u_{\\alpha}(y) dy.\n",
    "$$\n",
    "\n",
    "But how to compute these functions $u_{\\alpha}$?  "
   ]
  },
  {
   "cell_type": "markdown",
   "metadata": {
    "slideshow": {
     "slide_type": "slide"
    }
   },
   "source": [
    "## Exponential sums\n",
    "\n",
    "A very useful approach is based on so-called **exponential sums**. A simple identity has the form\n",
    "\n",
    "$$\\frac{1}{\\sqrt{r}} = \\frac{1}{\\sqrt{\\pi}} \\int^{\\infty}_0 \\frac{e^{-pr}}{\\sqrt{p}} dp.$$\n",
    "\n",
    "It can be very useful in separating variables.\n"
   ]
  },
  {
   "cell_type": "markdown",
   "metadata": {
    "slideshow": {
     "slide_type": "slide"
    }
   },
   "source": [
    "## A quadrature\n",
    "\n",
    "Suppose we have a quadrature for the integral:\n",
    "\n",
    "$$ \n",
    "\\frac{1}{\\sqrt{r}} = \\frac{1}{\\sqrt{\\pi}} \\int^{\\infty}_0 \\frac{e^{-pr}}{\\sqrt{p}} dp. \\approx \\sum_{k} w_k e^{-p_k r}.$$\n",
    "\n",
    "Then put \n",
    "\n",
    "$$\n",
    "r = x^2 + y^2\n",
    "$$\n",
    "\n",
    "and we get the sum of <font color='red'> Gaussians </font> on the right."
   ]
  },
  {
   "cell_type": "markdown",
   "metadata": {
    "slideshow": {
     "slide_type": "slide"
    }
   },
   "source": [
    "## Sum of Gaussians\n",
    "\n",
    "$$\\frac{1}{\\sqrt{r}} \\approx \\sum_{k} w_k e^{-p_k (x^2 + y^2)},$$\n",
    "\n",
    "and the integrals reduce to the 1D integrals\n",
    "\n",
    "$$\n",
    "   \\int_a^b e^{-p_k x^2} dx, \n",
    "$$\n",
    "\n",
    "and this can be expressed via the <font color='red'> Error functions </font> (and there is a standard numpy ```erfc``` function)"
   ]
  },
  {
   "cell_type": "markdown",
   "metadata": {
    "slideshow": {
     "slide_type": "slide"
    }
   },
   "source": [
    "## But how to find $w_k$ and $p_k$?\n",
    "\n",
    "We reduced the problem to the problem of creating a good quadrature rule for the integral\n",
    "\n",
    "$$\\int^{\\infty}_0 \\frac{e^{-px}}{\\sqrt{p}} dp$$\n",
    "\n",
    "You have to do the $p = e^t$ (why do we do so?) and we have the new integral\n",
    "\n",
    "$$\n",
    "\\int^{\\infty}_{-\\infty} e^{-e^{t} x + t/2} dt\n",
    "$$\n",
    "\n",
    "and this integral is then approximated by **trapezoidal rule** $t_k = a_t + k h_t, \\quad h_t = (b_t - a_t)/K$\n",
    "\n",
    "\n",
    "The integral is doubly exponentially decaying, and also its Fourier transform is decaying exponentially fast.\n",
    "\n",
    "Thus, trapezoidal rule has **exponential convergence** in this setting"
   ]
  },
  {
   "cell_type": "markdown",
   "metadata": {
    "slideshow": {
     "slide_type": "slide"
    }
   },
   "source": [
    "A short demo..."
   ]
  },
  {
   "cell_type": "code",
   "execution_count": 17,
   "metadata": {
    "slideshow": {
     "slide_type": "fragment"
    }
   },
   "outputs": [
    {
     "data": {
      "image/png": "[encoded data removed]",
      "text/plain": [
       "<matplotlib.figure.Figure at 0x7ff67d9baa90>"
      ]
     },
     "metadata": {},
     "output_type": "display_data"
    }
   ],
   "source": [
    "import numpy as np\n",
    "import math\n",
    "import matplotlib.pyplot as plt\n",
    "%matplotlib inline\n",
    "a = -30\n",
    "b = 30\n",
    "n = 30\n",
    "t = np.linspace(a, b, n)\n",
    "h = t[1] - t[0]\n",
    "w = np.ones(n) * h\n",
    "w[0] = h/2\n",
    "w[n-1] = h/2\n",
    "w = w * np.exp(0.5 * t)/np.sqrt(math.pi)\n",
    "ps = np.exp(t)\n",
    "x = np.linspace(0.01, 1)\n",
    "fun = 1.0/np.sqrt(x)\n",
    "appr = 0 * x\n",
    "for i in xrange(n):\n",
    "    appr = appr + w[i] * np.exp(-(x) * ps[i])\n",
    "#plt.plot(x, fun)\n",
    "fig, ax = plt.subplots(1, 1, figsize=(10, 6))\n",
    "#ax.plot(x, np.abs(appr - fun))\n",
    "ax.plot(x, appr, label='appr')\n",
    "ax.plot(x, fun, label='fun')\n",
    "#ax.set_yscale('log')\n",
    "#ax.set_title('Approximation error by %d Gaussians' % n)\n",
    "ax.set_ylabel('Error', fontsize=18)\n",
    "ax.set_xlabel(\"$x$\", fontsize=18)\n",
    "plt.tight_layout()"
   ]
  },
  {
   "cell_type": "markdown",
   "metadata": {
    "slideshow": {
     "slide_type": "slide"
    }
   },
   "source": [
    "## A sidenote about fitting by sum of exponentials\n",
    "- Approximation of a given function by a sum of exponentials is a ill-posed problem\n",
    "- Original method by Prony (1795)\n",
    "- Recent work by [G. Beylkin, et. al, Approximation by exponential sums revisited](https://www.google.ru/url?sa=t&rct=j&q=&esrc=s&source=web&cd=2&cad=rja&uact=8&ved=0CCYQFjAB&url=http%3A%2F%2Famath.colorado.edu%2Fpub%2Fwavelets%2Fpapers%2FBEY-MON-2010.pdf&ei=Cok1VZHkJKLnygO7hYCgBw&usg=AFQjCNGRcxece5lCuy9N7oheTBOzOpcSYw&sig2=Rf3DPGBAMmYO4parmQXzFQ&bvm=bv.91071109,d.bGQ) "
   ]
  },
  {
   "cell_type": "markdown",
   "metadata": {
    "slideshow": {
     "slide_type": "slide"
    }
   },
   "source": [
    "## Integration over triangles\n",
    "\n",
    "Exponential sums are well-applicable to the integration over **rectangles**. But the most typical choice is the integration over **triangles**.\n",
    "\n",
    "Consider the standard triangle \n",
    "$$\n",
    "T = \\{ (x, y) \\; | \\; 0 \\leq x \\leq 1, \\; 0 \\leq y \\leq x\\}.\n",
    "$$\n",
    "\n",
    "Consider the integral $$\\int_{T} h dS,$$\n",
    "\n",
    "\n",
    "which can be written as\n",
    "\n",
    "$$\n",
    "    \\int^{1}_{0} dx \\int^x_0 h(x, y)dy.\n",
    "$$\n",
    "\n",
    "\n"
   ]
  },
  {
   "cell_type": "markdown",
   "metadata": {
    "slideshow": {
     "slide_type": "slide"
    }
   },
   "source": [
    "## Duffy transformation\n",
    "\n",
    "Duffy transformation is a **mapping** from rectangle to triangle, given by formulas\n",
    "\n",
    "$$x = x, \\quad y = x u, \\quad 0 \\leq u \\leq 1,$$\n",
    "\n",
    "i.e. it is a mapping from $(x, u)$ to $(x, y)$."
   ]
  },
  {
   "cell_type": "markdown",
   "metadata": {
    "slideshow": {
     "slide_type": "slide"
    }
   },
   "source": [
    "## Duffy transformation(2)\n",
    "Then, we have\n",
    "\n",
    "$$\\int^{1}_0 \\int^{1}_0 h(x, xu) x dx du.$$\n",
    "\n",
    "Recall the singularity:\n",
    "\n",
    "$$h(x, y) = \\frac{g(x, y)}{\\sqrt{x^2 + y^2}},$$\n",
    "\n",
    "therefore the $x$ cancels out and we have\n",
    "\n",
    "$$\\int_0^1 \\int_0^1 \\frac{g(x, xu)}{\\sqrt{1 + u^2}} dx du, $$\n",
    "\n",
    "which is **non-singular**."
   ]
  },
  {
   "cell_type": "markdown",
   "metadata": {
    "slideshow": {
     "slide_type": "slide"
    }
   },
   "source": [
    "## Efficient quadratures (papers)\n",
    "- C. Schwab,  S. Sauter [Efficient automatic quadrature in 3-d Galerkin BEM](http://citeseerx.ist.psu.edu/viewdoc/download?doi=10.1.1.45.4312&rep=rep1&type=pdf)\n",
    "- A. Polimeridis, Traianos V Yioultsis [On the direct evaluation of weakly singular integrals in Galerkin mixed potential integral equation formulations](http://ieeexplore.ieee.org/xpls/abs_all.jsp?arnumber=4618709)\n",
    "- [Vico-Greengard-Ferrando quadrature](https://arxiv.org/pdf/1604.03155.pdf)"
   ]
  },
  {
   "cell_type": "markdown",
   "metadata": {
    "slideshow": {
     "slide_type": "slide"
    }
   },
   "source": [
    "## Vico-Greengard-Ferrando quadrature\n",
    "Suppose we have to compute \n",
    "$$f(x) = \\int G(x-y) \\rho (y) dy, $$\n",
    "where $G(x-y)$ is a spherically symmetric Green function of some differential operator, that is\n",
    "$$G(r) = G(|r|)$$\n",
    "\n",
    "Idea: use **Fourier transform**\n",
    "$$\\widehat{(f \\ast g)} = {\\hat f} {\\hat g}$$\n",
    "\n",
    "This suggests that we can compute $f(x)$ as \n",
    "$$f(x) = \\Big(\\frac{1}{2\\pi}\\Big)^3 \\int e^{i s \\cdot x} \\widehat{\\rho}(s) \\widehat{G}(s) ds$$ \n",
    "\n",
    "However, there is a problem: $\\widehat{G}(s)$ is typically very singular, e.g. for Helmholtz differential operator $\\Delta + k^2$\n",
    "$$G(s) = \\frac{1}{k^2 - s^2},$$\n",
    "there is a **sphere** of singular points.\n",
    "So how we can avoid it?"
   ]
  },
  {
   "cell_type": "markdown",
   "metadata": {
    "slideshow": {
     "slide_type": "slide"
    }
   },
   "source": [
    "## Vico-Greengrad-Ferrando quadratures (2)\n",
    "We can use the following simple observation. Suppose that $\\rho(x)$ is $0$ outside of cube $[0, 1]^3$. Then, in this cube we have the following identity:\n",
    "\n",
    "$$\n",
    "\\int G(x-y) \\rho (y) dy \\equiv \\int G_L(x-y) \\rho (y)  dy, \n",
    "$$\n",
    "with \n",
    "$$\n",
    "G_L(r) = G(r) \\chi_{[0, L]}(|r|), \\quad L = \\sqrt{3}\n",
    "$$\n",
    "\n",
    "and $\\chi_D(x)$ is a charactersitic function of a set $D$,\n",
    "and identity holds because in the cube $[0, 1]^3$ distance between any two points doesn't exceed $\\sqrt{3}$.\n",
    "\n",
    "So we can use $G_L$ instead of $G$. $G_L$ has **compact support** and it's Fourier transform is **smooth**!\n",
    "\n",
    "E.g. for Helmholtz differential operator:"
   ]
  },
  {
   "cell_type": "code",
   "execution_count": 18,
   "metadata": {
    "slideshow": {
     "slide_type": "slide"
    }
   },
   "outputs": [
    {
     "data": {
      "text/plain": [
       "<matplotlib.legend.Legend at 0x7ff67d98f290>"
      ]
     },
     "execution_count": 18,
     "metadata": {},
     "output_type": "execute_result"
    },
    {
     "data": {
      "image/png": "[encoded data removed]",
      "text/plain": [
       "<matplotlib.figure.Figure at 0x7ff67d974d10>"
      ]
     },
     "metadata": {},
     "output_type": "display_data"
    }
   ],
   "source": [
    "import numpy as np\n",
    "import math\n",
    "import matplotlib.pyplot as plt\n",
    "%matplotlib inline\n",
    "\n",
    "def G_L(x, k, L):\n",
    "    return (-1 + np.exp(1.0j * L * k) * (np.cos(L * x) - 1.0j * k/x * np.sin(L * x)))/(k**2 - x**2)\n",
    "\n",
    "x = np.linspace(-20., 20., 1000)\n",
    "plt.plot(x, np.real(G_L(x, 4.0, np.sqrt(3))), label='Re G_L')\n",
    "plt.plot(x, np.imag(G_L(x, 4.0, np.sqrt(3))), label='Im G_L')\n",
    "plt.legend()"
   ]
  },
  {
   "cell_type": "markdown",
   "metadata": {
    "slideshow": {
     "slide_type": "slide"
    }
   },
   "source": [
    "## Vico-Greengard-Ferrando quadratures (3)\n",
    "\n",
    "So we need to compute \n",
    "$$f(x) = \\Big(\\frac{1}{2\\pi}\\Big)^3 \\int e^{i s \\cdot x} \\widehat{\\rho}(s) \\widehat{G_L}(s) ds, $$ \n",
    "with $G_L(s)$ being **smooth**. This can be performed using trapezoidal rule."
   ]
  },
  {
   "cell_type": "markdown",
   "metadata": {
    "slideshow": {
     "slide_type": "slide"
    }
   },
   "source": [
    "## Rokhlin generalized quadratures\n",
    "\n",
    "Finally, I will discuss a general quadrature idea. For a particular **kernel** of the integral operator, the quadrature **points and weights** in \n",
    "\n",
    "$$\\int K f \\approx \\sum_i w_i (K f)(x_i),$$\n",
    "\n",
    "have to be defined only once."
   ]
  },
  {
   "cell_type": "markdown",
   "metadata": {
    "slideshow": {
     "slide_type": "slide"
    }
   },
   "source": [
    "## Idea in 1D\n",
    "\n",
    "I will illustrate the idea in 1D to compute\n",
    "\n",
    "$$\\int^1_0 f(x) dx \\approx \\sum_{j=1}^M f(x_j) w_j$$\n",
    "\n",
    "and this quadrature has to integrate certain subset of functions $f_1, \\ldots, f_n$,\n",
    "\n",
    "i.e.\n",
    "\n",
    "$$\\sum_{j=1}^M f_i(x_j) w_j = \\int^1_0 f_i(x) dx.$$"
   ]
  },
  {
   "cell_type": "markdown",
   "metadata": {
    "slideshow": {
     "slide_type": "slide"
    }
   },
   "source": [
    "## Assumptions\n",
    "\n",
    "The quadrature formula with nodes $x_1, \\ldots, x_m$ and weights $w_1, \\ldots, w_m$:\n",
    "\n",
    "- Integrates $f_i, i = 1, \\ldots, n$ and their products\n",
    "- $f_i$ form **orthonormal basis set** in $L_2[0, 1]$\n",
    "- $m \\gg n$\n"
   ]
  },
  {
   "cell_type": "markdown",
   "metadata": {
    "slideshow": {
     "slide_type": "slide"
    }
   },
   "source": [
    "## Linear system for the weights\n",
    "\n",
    "Then we have a linear $n \\times m$ system for the weights, which is **underdetermined**.\n",
    "\n",
    "Specifically, \n",
    "\n",
    "$$\\sum_{j=1}^m f_i(x_j) \\sqrt{w_j} v_j  = b_n.$$\n",
    "\n",
    "Since the quadrature formula integrates the products, the matrix has singular values $0$ or $1$ (prove!).\n",
    "\n",
    "We can also set most of the solution coefficients to zero, and leave only $m$ non-zero entries.\n",
    "\n",
    "If we denote the positions by $i_1, \\ldots, i_n$, the final quadrature will read\n",
    "\n",
    "$$\\int^1_0 f(x) dx \\approx \\sum_{k=1}^n f(x_{i_k}) z_{k} \\sqrt{w_{i_k}}.$$"
   ]
  },
  {
   "cell_type": "markdown",
   "metadata": {
    "slideshow": {
     "slide_type": "slide"
    }
   },
   "source": [
    "## Summary of the generalized quadrature idea\n",
    "- Start with an orthonormal basis set\n",
    "- Select very large quadrature with many points\n",
    "- Select a \"pruned\" quadrature.\n",
    "\n",
    "The approach can be generalized to singular integrals."
   ]
  },
  {
   "cell_type": "markdown",
   "metadata": {
    "slideshow": {
     "slide_type": "slide"
    }
   },
   "source": [
    "## Summary of the lecture\n",
    "\n",
    "- Basic discretization schemes (Galerkin, collocation, Nystrom)\n",
    "- Some approaches to compute singular integrals"
   ]
  },
  {
   "cell_type": "markdown",
   "metadata": {
    "slideshow": {
     "slide_type": "slide"
    }
   },
   "source": [
    "## Next lecture\n",
    "- Fast methods: computation of the convolution via FFT, idea of precorrected FFT.\n",
    "- More integral equation kernels"
   ]
  },
  {
   "cell_type": "code",
   "execution_count": 1,
   "metadata": {
    "slideshow": {
     "slide_type": "skip"
    }
   },
   "outputs": [
    {
     "data": {
      "text/html": [
       "<link href='http://fonts.googleapis.com/css?family=Fenix' rel='stylesheet' type='text/css'>\n",
       "<link href='http://fonts.googleapis.com/css?family=Alegreya+Sans:100,300,400,500,700,800,900,100italic,300italic,400italic,500italic,700italic,800italic,900italic' rel='stylesheet' type='text/css'>\n",
       "<link href='http://fonts.googleapis.com/css?family=Source+Code+Pro:300,400' rel='stylesheet' type='text/css'>\n",
       "<style>\n",
       "    @font-face {\n",
       "        font-family: \"Computer Modern\";\n",
       "        src: url('http://mirrors.ctan.org/fonts/cm-unicode/fonts/otf/cmunss.otf');\n",
       "    }\n",
       "    div.cell{\n",
       "        /*width:80%;*/\n",
       "        /*margin-left:auto !important;\n",
       "        margin-right:auto;*/\n",
       "    }\n",
       "    h1 {\n",
       "        font-family: 'Alegreya Sans', sans-serif;\n",
       "    }\n",
       "    h2 {\n",
       "        font-family: 'Fenix', serif;\n",
       "    }\n",
       "    h3{\n",
       "\t\tfont-family: 'Fenix', serif;\n",
       "        margin-top:12px;\n",
       "        margin-bottom: 3px;\n",
       "       }\n",
       "\th4{\n",
       "\t\tfont-family: 'Fenix', serif;\n",
       "       }\n",
       "    h5 {\n",
       "        font-family: 'Alegreya Sans', sans-serif;\n",
       "    }\t   \n",
       "    div.text_cell_render{\n",
       "        font-family: 'Alegreya Sans',Computer Modern, \"Helvetica Neue\", Arial, Helvetica, Geneva, sans-serif;\n",
       "        line-height: 1.2;\n",
       "        font-size: 120%;\n",
       "        /*width:70%;*/\n",
       "        /*margin-left:auto;*/\n",
       "        margin-right:auto;\n",
       "    }\n",
       "    .CodeMirror{\n",
       "            font-family: \"Source Code Pro\";\n",
       "\t\t\tfont-size: 90%;\n",
       "    }\n",
       "/*    .prompt{\n",
       "        display: None;\n",
       "    }*/\n",
       "    .text_cell_render h1 {\n",
       "        font-weight: 200;\n",
       "        font-size: 50pt;\n",
       "\t\tline-height: 110%;\n",
       "        color:#CD2305;\n",
       "        margin-bottom: 0.5em;\n",
       "        margin-top: 0.5em;\n",
       "        display: block;\n",
       "    }\t\n",
       "    .text_cell_render h5 {\n",
       "        font-weight: 300;\n",
       "        font-size: 16pt;\n",
       "        color: #CD2305;\n",
       "        font-style: italic;\n",
       "        margin-bottom: .5em;\n",
       "        margin-top: 0.5em;\n",
       "        display: block;\n",
       "    }\n",
       "    \n",
       "    li {\n",
       "        line-height: 110%;\n",
       "    }\n",
       "    .warning{\n",
       "        color: rgb( 240, 20, 20 )\n",
       "        }  \n",
       "</style>\n",
       "<script>\n",
       "    MathJax.Hub.Config({\n",
       "                        TeX: {\n",
       "                           extensions: [\"AMSmath.js\"]\n",
       "                           },\n",
       "                tex2jax: {\n",
       "                    inlineMath: [ ['$','$'], [\"\\\\(\",\"\\\\)\"] ],\n",
       "                    displayMath: [ ['$$','$$'], [\"\\\\[\",\"\\\\]\"] ]\n",
       "                },\n",
       "                displayAlign: 'center', // Change this to 'center' to center equations.\n",
       "                \"HTML-CSS\": {\n",
       "                    styles: {'.MathJax_Display': {\"margin\": 4}}\n",
       "                }\n",
       "        });\n",
       "</script>\n"
      ],
      "text/plain": [
       "<IPython.core.display.HTML object>"
      ]
     },
     "execution_count": 1,
     "metadata": {},
     "output_type": "execute_result"
    }
   ],
   "source": [
    "from IPython.core.display import HTML\n",
    "def css_styling():\n",
    "    styles = open(\"./styles/custom.css\", \"r\").read()\n",
    "    return HTML(styles)\n",
    "css_styling()"
   ]
  }
 ],
 "metadata": {
  "anaconda-cloud": {},
  "celltoolbar": "Slideshow",
  "kernelspec": {
   "display_name": "Python [default]",
   "language": "python",
   "name": "python2"
  },
  "language_info": {
   "codemirror_mode": {
    "name": "ipython",
    "version": 2
   },
   "file_extension": ".py",
   "mimetype": "text/x-python",
   "name": "python",
   "nbconvert_exporter": "python",
   "pygments_lexer": "ipython2",
   "version": "2.7.13"
  }
 },
 "nbformat": 4,
 "nbformat_minor": 1
}
