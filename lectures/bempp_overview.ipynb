{
 "cells": [
  {
   "cell_type": "markdown",
   "metadata": {
    "slideshow": {
     "slide_type": "slide"
    }
   },
   "source": [
    "# BEM++ overview\n",
    "https://bempp.com/\n"
   ]
  },
  {
   "cell_type": "markdown",
   "metadata": {
    "slideshow": {
     "slide_type": "slide"
    }
   },
   "source": [
    "## Overview\n",
    "\n",
    "- Overview presentation [here](http://www.ucl.ac.uk/~ucahdhe/Workshop_Talks/09_Betcke.pdf).\n",
    "- Applicable only for 3D problems\n",
    "- Support Laplace, Helmholtz and Maxwell equations with Dirichlet and Neumann boundary conditions\n",
    "- Support H-matrices and itertive solvers for linear systems"
   ]
  },
  {
   "cell_type": "markdown",
   "metadata": {
    "slideshow": {
     "slide_type": "slide"
    }
   },
   "source": [
    "## Installation\n",
    "\n",
    "https://bitbucket.org/bemppsolutions/bempp"
   ]
  },
  {
   "cell_type": "markdown",
   "metadata": {
    "slideshow": {
     "slide_type": "slide"
    }
   },
   "source": [
    "### Conda environment preparation\n",
    "\n",
    "- Create conda environment \n",
    "```\n",
    "conda create -n bempp python=3.6\n",
    "```\n",
    "- Activate this environment\n",
    "```\n",
    "source activate bempp\n",
    "```\n",
    "- Install in this environment NumPy stack + MPI packages\n",
    "    - Numpy\n",
    "    - Scipy\n",
    "    - Matplotlib\n",
    "    - mpi4py\n",
    "    - Cython\n",
    "    - Jupyter Notebook kernel\n",
    "    ```\n",
    "    conda install jupyter notebook\n",
    "    ```"
   ]
  },
  {
   "cell_type": "markdown",
   "metadata": {
    "slideshow": {
     "slide_type": "slide"
    }
   },
   "source": [
    "### Threading building block\n",
    "\n",
    "BEM++ uses TBB package, so you should install it before bulding BEM++.\n",
    "\n",
    "For OS X:\n",
    "```\n",
    "brew install tbb\n",
    "```\n",
    "For Ubuntu:\n",
    "```\n",
    "sudo apt-get install libtbb-dev\n",
    "```"
   ]
  },
  {
   "cell_type": "markdown",
   "metadata": {
    "slideshow": {
     "slide_type": "slide"
    }
   },
   "source": [
    "### Boost\n",
    "\n",
    "Probably you will need install boost library if it had not already installed.\n",
    "\n",
    "For OS X:\n",
    "```\n",
    "brew install boost\n",
    "```\n",
    "For Ubuntu:\n",
    "```\n",
    "sudo apt-get install libboost-all-dev\n",
    "```"
   ]
  },
  {
   "cell_type": "markdown",
   "metadata": {
    "slideshow": {
     "slide_type": "slide"
    }
   },
   "source": [
    "### Cloning source code and build from source\n",
    "\n",
    "- Clone BEM++ source code in your folder with lib source codes\n",
    "```\n",
    "cd your-folder\n",
    "git clone git@bitbucket.org:bemppsolutions/bempp.git\n",
    "```\n",
    "\n",
    "- Got to the cloned folder and build C/C++ core of BEM++\n",
    "```\n",
    "cd ./bempp/\n",
    "mkdir build\n",
    "cd ./build\n",
    "cmake ..\n",
    "make -j4\n",
    "```\n",
    "The last command runs build process and parallel it in 4 threads."
   ]
  },
  {
   "cell_type": "markdown",
   "metadata": {
    "slideshow": {
     "slide_type": "slide"
    }
   },
   "source": [
    "### Create and install Python package\n",
    "\n",
    "After successfully finished building in the previous step go to the home folder\n",
    "```\n",
    "cd ..\n",
    "```\n",
    "and run \n",
    "```\n",
    "python setup.py install\n",
    "```\n",
    "This command initiates converting C/C++ core of BEM++ to Python package and installs it to the target place inside your environment. "
   ]
  },
  {
   "cell_type": "markdown",
   "metadata": {
    "slideshow": {
     "slide_type": "slide"
    }
   },
   "source": [
    "### Check correctness of installation\n",
    "\n",
    "To check that BEM++ is installed correctly, run ```python``` inside environment, where you have installed BEM++, and import it\n",
    "```python\n",
    "import bempp.api\n",
    "```"
   ]
  },
  {
   "cell_type": "markdown",
   "metadata": {
    "slideshow": {
     "slide_type": "slide"
    }
   },
   "source": [
    "### Next steps...\n",
    "\n",
    "Now we are ready to try BEM++ for solving different integral equations, but how to give integral equation for this package?"
   ]
  },
  {
   "cell_type": "markdown",
   "metadata": {
    "slideshow": {
     "slide_type": "slide"
    }
   },
   "source": [
    "## Main ingredients"
   ]
  },
  {
   "cell_type": "markdown",
   "metadata": {
    "slideshow": {
     "slide_type": "slide"
    }
   },
   "source": [
    "Remember first-kind integral equation\n",
    "$$\n",
    "\\int_{\\partial \\Omega} \\frac{q(y)}{\\Vert x - y \\Vert} dy = f(x), \\quad x \\in \\partial \\Omega.\n",
    "$$\n",
    "and list steps required to solve it numerically."
   ]
  },
  {
   "cell_type": "markdown",
   "metadata": {
    "slideshow": {
     "slide_type": "slide"
    }
   },
   "source": [
    "### From IE to LS\n",
    "\n",
    "- Discretization\n",
    "- Local basis functions\n",
    "- Test functions\n",
    "- Operator\n",
    "- Linear system solver"
   ]
  },
  {
   "cell_type": "markdown",
   "metadata": {
    "slideshow": {
     "slide_type": "slide"
    }
   },
   "source": [
    "### Grids"
   ]
  },
  {
   "cell_type": "code",
   "execution_count": 1,
   "metadata": {
    "collapsed": true,
    "slideshow": {
     "slide_type": "fragment"
    }
   },
   "outputs": [],
   "source": [
    "import bempp.api\n",
    "import numpy as np\n",
    "grid = bempp.api.shapes.regular_sphere(3)\n",
    "grid.plot()"
   ]
  },
  {
   "cell_type": "markdown",
   "metadata": {
    "slideshow": {
     "slide_type": "fragment"
    }
   },
   "source": [
    "**Q:** what means argument of the function?"
   ]
  },
  {
   "cell_type": "markdown",
   "metadata": {
    "slideshow": {
     "slide_type": "slide"
    }
   },
   "source": [
    "Plot the following objects\n",
    "- cube \n",
    "- ellipsoid \n",
    "- rectangle with hole"
   ]
  },
  {
   "cell_type": "markdown",
   "metadata": {
    "slideshow": {
     "slide_type": "slide"
    }
   },
   "source": [
    "### Import/export\n",
    "\n",
    "- You can import your mesh in Gmsh file \n",
    "```\n",
    "bempp.api.import_grid(filename)\n",
    "```\n",
    "- You can export mesh from Gmsh file\n",
    "```\n",
    "bempp.api.export(grid=grid, file_name=filename)\n",
    "```"
   ]
  },
  {
   "cell_type": "markdown",
   "metadata": {
    "slideshow": {
     "slide_type": "slide"
    }
   },
   "source": [
    "### Function space\n",
    "\n",
    "After setting grid, we can define functions which are used for discretization in this mesh."
   ]
  },
  {
   "cell_type": "code",
   "execution_count": 2,
   "metadata": {
    "collapsed": true,
    "slideshow": {
     "slide_type": "fragment"
    }
   },
   "outputs": [],
   "source": [
    "space = bempp.api.function_space(grid, \"DP\", 0)"
   ]
  },
  {
   "cell_type": "markdown",
   "metadata": {
    "slideshow": {
     "slide_type": "fragment"
    }
   },
   "source": [
    "What mean these arguments?"
   ]
  },
  {
   "cell_type": "markdown",
   "metadata": {
    "slideshow": {
     "slide_type": "slide"
    }
   },
   "source": [
    "- The first argument is always grid object\n",
    "- The second argument can be discontinious polynomial (\"DP\"), polynomial (\"P\") or some special function space (\"DUAL\")\n",
    "- The third argument is the order of polynomial"
   ]
  },
  {
   "cell_type": "markdown",
   "metadata": {
    "slideshow": {
     "slide_type": "slide"
    }
   },
   "source": [
    "Study degrees of freedom for different types and order of function spaces. "
   ]
  },
  {
   "cell_type": "markdown",
   "metadata": {
    "slideshow": {
     "slide_type": "slide"
    }
   },
   "source": [
    "### Grid function\n",
    "\n",
    "- After introducing space we can obtain grid function, which is representation of data on given grid.\n",
    "- This object consists of a set of basis function coefficients and a corresponding space object"
   ]
  },
  {
   "cell_type": "code",
   "execution_count": 3,
   "metadata": {
    "collapsed": true,
    "slideshow": {
     "slide_type": "slide"
    }
   },
   "outputs": [],
   "source": [
    "import numpy as np\n",
    "def fun(x, normal, domain_index, result):    \n",
    "    result[0] = np.exp(1j * x[0])\n",
    "grid_fun = bempp.api.GridFunction(space, fun=fun)\n",
    "grid_fun.plot()"
   ]
  },
  {
   "cell_type": "markdown",
   "metadata": {
    "slideshow": {
     "slide_type": "slide"
    }
   },
   "source": [
    "## Operators\n",
    "\n",
    "- Boundary operators\n",
    "$$\n",
    "A: D \\to R\n",
    "$$\n",
    "is defined by domain space ($D$), range space ($R$) and dual-to-range ($V$).\n",
    "The last space is neccessary for *weak reformulation* and it will be discussed later.\n",
    "- Potential operators map from given space to set of external points\n"
   ]
  },
  {
   "cell_type": "markdown",
   "metadata": {
    "slideshow": {
     "slide_type": "slide"
    }
   },
   "source": [
    "### Operators in BEM++\n",
    "\n",
    "- All available operators are described [here](https://bempp.com/2017/07/11/available_operators/)\n",
    "- Main groups of operators are operators for Laplace equation, for Maxwell equations and for Helmholtz equation\n",
    "- Algebra in operators is implemented, so you can perform the following operatios with operators: sum, multiply by scalar, squared and others...\n",
    "- Lazy evaluation: discretization is performed not after defining operators, but only at the moment of solving linear system"
   ]
  },
  {
   "cell_type": "code",
   "execution_count": 4,
   "metadata": {
    "collapsed": true,
    "slideshow": {
     "slide_type": "slide"
    }
   },
   "outputs": [],
   "source": [
    "slp = bempp.api.operators.boundary.laplace.single_layer(space, space,\n",
    "                                                        space)\n",
    "scaled_operator = 1.5 * slp\n",
    "sum_operator = slp + slp\n",
    "squared_operator = slp * slp"
   ]
  },
  {
   "cell_type": "markdown",
   "metadata": {
    "slideshow": {
     "slide_type": "slide"
    }
   },
   "source": [
    "- General operator $A: D \\to R$ mapping has the form\n",
    "$$\n",
    "Au= f,\n",
    "$$\n",
    "where $u \\in D$, $f \\in R$\n",
    "- We can inner multiply both side on some function from dual space (here we get dual-to-rage space!) and get\n",
    "$$\n",
    "\\langle Au, v\\rangle = \\langle f, v\\rangle\n",
    "$$\n",
    "- In case of integral equation\n",
    "$$\n",
    "\\langle Au, v\\rangle = \\int_{\\Gamma} [Au](y)\\bar{v}(y)dy.\n",
    "$$"
   ]
  },
  {
   "cell_type": "code",
   "execution_count": 5,
   "metadata": {
    "slideshow": {
     "slide_type": "slide"
    }
   },
   "outputs": [
    {
     "name": "stdout",
     "output_type": "stream",
     "text": [
      "Shape of the matrix: (512, 512)\n",
      "Type of the matrix: float64\n"
     ]
    }
   ],
   "source": [
    "slp_discrete = slp.weak_form()\n",
    "print(\"Shape of the matrix: {0}\".format(slp_discrete.shape))\n",
    "print(\"Type of the matrix: {0}\".format(slp_discrete.dtype))\n",
    "x = np.random.rand(slp_discrete.shape[1])\n",
    "y = slp_discrete * x"
   ]
  },
  {
   "cell_type": "markdown",
   "metadata": {
    "slideshow": {
     "slide_type": "slide"
    }
   },
   "source": [
    "## Linear system solvers\n",
    "\n",
    "- This is the final step for solving integral equation\n",
    "- But to get it we need to do the following steps:\n",
    "    - Find weak form of operator: \n",
    "    ```\n",
    "    discrete_op = A.weak_form()\n",
    "    ```\n",
    "    \n",
    "    - Compute projection of the right-hand side onto the dual-to-range: \n",
    "    ```\n",
    "    p = f.projections(dual_to_range)\n",
    "    ```\n",
    "    - Now we have a matrix and a right-hand side, we can call linear system solver from SciPy (with appropriate preconditioner) and get vector of coefficients\n",
    "    - After that we come back to the domain space and compute solution function \n",
    "    ```\n",
    "    sol_fun = bempp.api.GridFunction(A.domain, coefficients=x)\n",
    "    ```"
   ]
  },
  {
   "cell_type": "markdown",
   "metadata": {
    "slideshow": {
     "slide_type": "slide"
    }
   },
   "source": [
    "### Can we do more convenient?\n",
    "- Yes! BEM++ has its own wrapper for all above steps\n",
    "- Module \n",
    "```\n",
    "bempp.api.linalg\n",
    "``` \n",
    "has solvers that require operator and grid function instead of matrix and vector.\n",
    "- Automatic LU preconditioner is available"
   ]
  },
  {
   "cell_type": "markdown",
   "metadata": {
    "slideshow": {
     "slide_type": "slide"
    }
   },
   "source": [
    "## Example\n",
    "\n",
    "Now let's see how it works for particular [problem](./laplace_interior_dirichlet_original.ipynb/)..."
   ]
  }
 ],
 "metadata": {
  "celltoolbar": "Slideshow",
  "kernelspec": {
   "display_name": "Python [conda env:bempp]",
   "language": "python",
   "name": "conda-env-bempp-py"
  },
  "language_info": {
   "codemirror_mode": {
    "name": "ipython",
    "version": 3
   },
   "file_extension": ".py",
   "mimetype": "text/x-python",
   "name": "python",
   "nbconvert_exporter": "python",
   "pygments_lexer": "ipython3",
   "version": "3.6.2"
  }
 },
 "nbformat": 4,
 "nbformat_minor": 2
}
